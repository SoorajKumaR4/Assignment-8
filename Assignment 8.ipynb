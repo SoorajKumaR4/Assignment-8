{
 "cells": [
  {
   "cell_type": "markdown",
   "id": "d5661d75",
   "metadata": {},
   "source": [
    "1. Is the Python Standard Library included with PyInputPlus?\n",
    "\n",
    "A. PyInputPlus is not a part of the Python Standard Library, so you must install it separately using Pip."
   ]
  },
  {
   "cell_type": "markdown",
   "id": "4bd7dd60",
   "metadata": {},
   "source": [
    "2. Why is PyInputPlus commonly imported with import pyinputplus as pypi?\n",
    "\n",
    "A.  PyInputPlus is commonly imported with as pypi as pyip code in the import statement saves us from typing pyinputplus each time we want to call a PyInputPlus function."
   ]
  },
  {
   "cell_type": "markdown",
   "id": "1d4eeca0",
   "metadata": {},
   "source": [
    "3. How do you distinguish between inputInt() and inputFloat()?\n",
    "\n",
    "A. inputInt() : Accepts an integer value, and returns int value, whereas inputFloat() accepts integer/floating point value and returns float value."
   ]
  },
  {
   "cell_type": "markdown",
   "id": "fb64786a",
   "metadata": {},
   "source": [
    "4. Using PyInputPlus, how do you ensure that the user enters a whole number between 0 and 99?\n",
    "\n",
    "A. In the inputint function we can set the min = 0 and max =99 to ensure user enters number between 0 and 99.  pyip.inputInt(min = 0, max =99)"
   ]
  },
  {
   "cell_type": "markdown",
   "id": "64e2eafc",
   "metadata": {},
   "source": [
    "5. What is transferred to the keyword arguments allowRegexes and blockRegexes?\n",
    "\n",
    "A. The allowRegexes and blockRegexes keyword arguments take a list of regular expression strings to determine what the PyInputPlus function will accept or reject as valid input."
   ]
  },
  {
   "cell_type": "markdown",
   "id": "ff0db6a0",
   "metadata": {},
   "source": [
    "6. If a blank input is entered three times, what does inputStr(limit=3) do?\n",
    "\n",
    "A. It will throw RetryLimitException exception"
   ]
  },
  {
   "cell_type": "markdown",
   "id": "e4d51995",
   "metadata": {},
   "source": [
    "7. If blank input is entered three times, what does inputStr(limit=3, default='hello') do?\n",
    "\n",
    "A. When you use limit keyword arguments and also pass a default keyword argument, the function returns the default value instead of raising an exception."
   ]
  }
 ],
 "metadata": {
  "kernelspec": {
   "display_name": "Python 3 (ipykernel)",
   "language": "python",
   "name": "python3"
  },
  "language_info": {
   "codemirror_mode": {
    "name": "ipython",
    "version": 3
   },
   "file_extension": ".py",
   "mimetype": "text/x-python",
   "name": "python",
   "nbconvert_exporter": "python",
   "pygments_lexer": "ipython3",
   "version": "3.9.7"
  }
 },
 "nbformat": 4,
 "nbformat_minor": 5
}
